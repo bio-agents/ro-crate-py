{
 "cells": [
  {
   "cell_type": "code",
   "execution_count": 1,
   "metadata": {},
   "outputs": [],
   "source": [
    "from rdflib import ConjunctiveGraph\n",
    "from jinja2 import Template\n",
    "import json\n",
    "from pyshacl import validate\n",
    "from IPython.display import display, Markdown, Latex"
   ]
  },
  {
   "cell_type": "markdown",
   "metadata": {},
   "source": [
    "# 1. Defining a basic profile\n",
    "Here we state that for ContactPoint, we must have a name and an email. We also state that a Dataset must have a name a description a datePublished and a license. "
   ]
  },
  {
   "cell_type": "code",
   "execution_count": 24,
   "metadata": {},
   "outputs": [],
   "source": [
    "sample_profile = {'ContactPoint': ['name', 'email'], \n",
    "                 'Dataset': ['name', 'description', 'datePublished', 'license']}\n"
   ]
  },
  {
   "cell_type": "markdown",
   "metadata": {},
   "source": [
    "# 2. Generating a SHACL shape from a this predefined profile"
   ]
  },
  {
   "cell_type": "code",
   "execution_count": 32,
   "metadata": {},
   "outputs": [
    {
     "name": "stdout",
     "output_type": "stream",
     "text": [
      "\n",
      "@prefix dash: <http://datashapes.org/dash#> .\n",
      "@prefix rdf: <http://www.w3.org/1999/02/22-rdf-syntax-ns#> .\n",
      "@prefix rdfs: <http://www.w3.org/2000/01/rdf-schema#> .\n",
      "@prefix schema: <http://schema.org/> .\n",
      "@prefix sh: <http://www.w3.org/ns/shacl#> .\n",
      "@prefix xsd: <http://www.w3.org/2001/XMLSchema#> .\n",
      "@prefix edam: <http://edamontology.org/> .\n",
      "@prefix bioagents: <https://bio.agents/ontology/> .\n",
      "\n",
      "\n",
      "\n",
      "schema:ContactPointShape\n",
      "    a sh:NodeShape ;\n",
      "    sh:targetClass schema:ContactPoint ;\n",
      "\n",
      "    \n",
      "    \n",
      "    sh:property [\n",
      "        sh:path schema:name ;\n",
      "        sh:minCount 1 ;\n",
      "    ] ;\n",
      "    \n",
      "    sh:property [\n",
      "        sh:path schema:email ;\n",
      "        sh:minCount 1 ;\n",
      "    ] ;\n",
      "    \n",
      "    .\n",
      "\n",
      "schema:DatasetShape\n",
      "    a sh:NodeShape ;\n",
      "    sh:targetClass schema:Dataset ;\n",
      "\n",
      "    \n",
      "    \n",
      "    sh:property [\n",
      "        sh:path schema:name ;\n",
      "        sh:minCount 1 ;\n",
      "    ] ;\n",
      "    \n",
      "    sh:property [\n",
      "        sh:path schema:description ;\n",
      "        sh:minCount 1 ;\n",
      "    ] ;\n",
      "    \n",
      "    sh:property [\n",
      "        sh:path schema:datePublished ;\n",
      "        sh:minCount 1 ;\n",
      "    ] ;\n",
      "    \n",
      "    sh:property [\n",
      "        sh:path schema:license ;\n",
      "        sh:minCount 1 ;\n",
      "    ] ;\n",
      "    \n",
      "    .\n",
      "\n",
      "22\n"
     ]
    }
   ],
   "source": [
    "shape_template = \"\"\"\n",
    "@prefix dash: <http://datashapes.org/dash#> .\n",
    "@prefix rdf: <http://www.w3.org/1999/02/22-rdf-syntax-ns#> .\n",
    "@prefix rdfs: <http://www.w3.org/2000/01/rdf-schema#> .\n",
    "@prefix schema: <http://schema.org/> .\n",
    "@prefix sh: <http://www.w3.org/ns/shacl#> .\n",
    "@prefix xsd: <http://www.w3.org/2001/XMLSchema#> .\n",
    "@prefix edam: <http://edamontology.org/> .\n",
    "@prefix bioagents: <https://bio.agents/ontology/> .\n",
    "\n",
    "{# comment: here we generate one shape per class in the profile #}\n",
    "{% for class_name in profile.keys() %}\n",
    "schema:{{class_name}}Shape\n",
    "    a sh:NodeShape ;\n",
    "    sh:targetClass schema:{{class_name}} ;\n",
    "\n",
    "    {# comment: iterate over mandatory properties #}\n",
    "    {% for prop_name in profile[class_name] %}\n",
    "    sh:property [\n",
    "        sh:path schema:{{prop_name}} ;\n",
    "        sh:minCount 1 ;\n",
    "    ] ;\n",
    "    {% endfor %}\n",
    "    .\n",
    "{% endfor %}\n",
    "\"\"\"\n",
    "\n",
    "template = Template(shape_template)\n",
    "shape = template.render(profile=sample_profile)\n",
    "print(shape)\n",
    "g = ConjunctiveGraph()\n",
    "g.parse(data = shape, format='turtle')\n",
    "print(len(g))"
   ]
  },
  {
   "cell_type": "markdown",
   "metadata": {},
   "source": [
    "# 3. Applying the SHACL rule to validate a sample RO-crate"
   ]
  },
  {
   "cell_type": "code",
   "execution_count": 34,
   "metadata": {},
   "outputs": [
    {
     "name": "stderr",
     "output_type": "stream",
     "text": [
      "Constraint Violation in MinCountConstraintComponent (http://www.w3.org/ns/shacl#MinCountConstraintComponent):\n",
      "\tSeverity: sh:Violation\n",
      "\tSource Shape: [ sh:minCount Literal(\"1\", datatype=xsd:integer) ; sh:path schema:name ]\n",
      "\tFocus Node: <file:///Users/gaignard-a/Documents/Dev/ro-crate-py/notebooks/sample_data/clinvap/assets/>\n",
      "\tResult Path: schema:name\n",
      "\n",
      "Constraint Violation in MinCountConstraintComponent (http://www.w3.org/ns/shacl#MinCountConstraintComponent):\n",
      "\tSeverity: sh:Violation\n",
      "\tSource Shape: [ sh:minCount Literal(\"1\", datatype=xsd:integer) ; sh:path schema:name ]\n",
      "\tFocus Node: <file:///Users/gaignard-a/Documents/Dev/ro-crate-py/notebooks/sample_data/clinvap/bin/>\n",
      "\tResult Path: schema:name\n",
      "\n",
      "Constraint Violation in MinCountConstraintComponent (http://www.w3.org/ns/shacl#MinCountConstraintComponent):\n",
      "\tSeverity: sh:Violation\n",
      "\tSource Shape: [ sh:minCount Literal(\"1\", datatype=xsd:integer) ; sh:path schema:name ]\n",
      "\tFocus Node: <file:///Users/gaignard-a/Documents/Dev/ro-crate-py/notebooks/sample_data/clinvap/conf/>\n",
      "\tResult Path: schema:name\n",
      "\n",
      "Constraint Violation in MinCountConstraintComponent (http://www.w3.org/ns/shacl#MinCountConstraintComponent):\n",
      "\tSeverity: sh:Violation\n",
      "\tSource Shape: [ sh:minCount Literal(\"1\", datatype=xsd:integer) ; sh:path schema:name ]\n",
      "\tFocus Node: <file:///Users/gaignard-a/Documents/Dev/ro-crate-py/notebooks/sample_data/clinvap/docs/>\n",
      "\tResult Path: schema:name\n",
      "\n",
      "Constraint Violation in MinCountConstraintComponent (http://www.w3.org/ns/shacl#MinCountConstraintComponent):\n",
      "\tSeverity: sh:Violation\n",
      "\tSource Shape: [ sh:minCount Literal(\"1\", datatype=xsd:integer) ; sh:path schema:description ]\n",
      "\tFocus Node: <file:///Users/gaignard-a/Documents/Dev/ro-crate-py/notebooks/sample_data/clinvap/assets/>\n",
      "\tResult Path: schema:description\n",
      "\n",
      "Constraint Violation in MinCountConstraintComponent (http://www.w3.org/ns/shacl#MinCountConstraintComponent):\n",
      "\tSeverity: sh:Violation\n",
      "\tSource Shape: [ sh:minCount Literal(\"1\", datatype=xsd:integer) ; sh:path schema:description ]\n",
      "\tFocus Node: <file:///Users/gaignard-a/Documents/Dev/ro-crate-py/notebooks/sample_data/clinvap/bin/>\n",
      "\tResult Path: schema:description\n",
      "\n",
      "Constraint Violation in MinCountConstraintComponent (http://www.w3.org/ns/shacl#MinCountConstraintComponent):\n",
      "\tSeverity: sh:Violation\n",
      "\tSource Shape: [ sh:minCount Literal(\"1\", datatype=xsd:integer) ; sh:path schema:description ]\n",
      "\tFocus Node: <file:///Users/gaignard-a/Documents/Dev/ro-crate-py/notebooks/sample_data/clinvap/conf/>\n",
      "\tResult Path: schema:description\n",
      "\n",
      "Constraint Violation in MinCountConstraintComponent (http://www.w3.org/ns/shacl#MinCountConstraintComponent):\n",
      "\tSeverity: sh:Violation\n",
      "\tSource Shape: [ sh:minCount Literal(\"1\", datatype=xsd:integer) ; sh:path schema:description ]\n",
      "\tFocus Node: <file:///Users/gaignard-a/Documents/Dev/ro-crate-py/notebooks/sample_data/clinvap/docs/>\n",
      "\tResult Path: schema:description\n",
      "\n",
      "Constraint Violation in MinCountConstraintComponent (http://www.w3.org/ns/shacl#MinCountConstraintComponent):\n",
      "\tSeverity: sh:Violation\n",
      "\tSource Shape: [ sh:minCount Literal(\"1\", datatype=xsd:integer) ; sh:path schema:datePublished ]\n",
      "\tFocus Node: <file:///Users/gaignard-a/Documents/Dev/ro-crate-py/notebooks/sample_data/clinvap/assets/>\n",
      "\tResult Path: schema:datePublished\n",
      "\n",
      "Constraint Violation in MinCountConstraintComponent (http://www.w3.org/ns/shacl#MinCountConstraintComponent):\n",
      "\tSeverity: sh:Violation\n",
      "\tSource Shape: [ sh:minCount Literal(\"1\", datatype=xsd:integer) ; sh:path schema:datePublished ]\n",
      "\tFocus Node: <file:///Users/gaignard-a/Documents/Dev/ro-crate-py/notebooks/sample_data/clinvap/bin/>\n",
      "\tResult Path: schema:datePublished\n",
      "\n",
      "Constraint Violation in MinCountConstraintComponent (http://www.w3.org/ns/shacl#MinCountConstraintComponent):\n",
      "\tSeverity: sh:Violation\n",
      "\tSource Shape: [ sh:minCount Literal(\"1\", datatype=xsd:integer) ; sh:path schema:datePublished ]\n",
      "\tFocus Node: <file:///Users/gaignard-a/Documents/Dev/ro-crate-py/notebooks/sample_data/clinvap/conf/>\n",
      "\tResult Path: schema:datePublished\n",
      "\n",
      "Constraint Violation in MinCountConstraintComponent (http://www.w3.org/ns/shacl#MinCountConstraintComponent):\n",
      "\tSeverity: sh:Violation\n",
      "\tSource Shape: [ sh:minCount Literal(\"1\", datatype=xsd:integer) ; sh:path schema:datePublished ]\n",
      "\tFocus Node: <file:///Users/gaignard-a/Documents/Dev/ro-crate-py/notebooks/sample_data/clinvap/>\n",
      "\tResult Path: schema:datePublished\n",
      "\n",
      "Constraint Violation in MinCountConstraintComponent (http://www.w3.org/ns/shacl#MinCountConstraintComponent):\n",
      "\tSeverity: sh:Violation\n",
      "\tSource Shape: [ sh:minCount Literal(\"1\", datatype=xsd:integer) ; sh:path schema:datePublished ]\n",
      "\tFocus Node: <file:///Users/gaignard-a/Documents/Dev/ro-crate-py/notebooks/sample_data/clinvap/docs/>\n",
      "\tResult Path: schema:datePublished\n",
      "\n",
      "Constraint Violation in MinCountConstraintComponent (http://www.w3.org/ns/shacl#MinCountConstraintComponent):\n",
      "\tSeverity: sh:Violation\n",
      "\tSource Shape: [ sh:minCount Literal(\"1\", datatype=xsd:integer) ; sh:path schema:license ]\n",
      "\tFocus Node: <file:///Users/gaignard-a/Documents/Dev/ro-crate-py/notebooks/sample_data/clinvap/assets/>\n",
      "\tResult Path: schema:license\n",
      "\n",
      "Constraint Violation in MinCountConstraintComponent (http://www.w3.org/ns/shacl#MinCountConstraintComponent):\n",
      "\tSeverity: sh:Violation\n",
      "\tSource Shape: [ sh:minCount Literal(\"1\", datatype=xsd:integer) ; sh:path schema:license ]\n",
      "\tFocus Node: <file:///Users/gaignard-a/Documents/Dev/ro-crate-py/notebooks/sample_data/clinvap/bin/>\n",
      "\tResult Path: schema:license\n",
      "\n",
      "Constraint Violation in MinCountConstraintComponent (http://www.w3.org/ns/shacl#MinCountConstraintComponent):\n",
      "\tSeverity: sh:Violation\n",
      "\tSource Shape: [ sh:minCount Literal(\"1\", datatype=xsd:integer) ; sh:path schema:license ]\n",
      "\tFocus Node: <file:///Users/gaignard-a/Documents/Dev/ro-crate-py/notebooks/sample_data/clinvap/conf/>\n",
      "\tResult Path: schema:license\n",
      "\n",
      "Constraint Violation in MinCountConstraintComponent (http://www.w3.org/ns/shacl#MinCountConstraintComponent):\n",
      "\tSeverity: sh:Violation\n",
      "\tSource Shape: [ sh:minCount Literal(\"1\", datatype=xsd:integer) ; sh:path schema:license ]\n",
      "\tFocus Node: <file:///Users/gaignard-a/Documents/Dev/ro-crate-py/notebooks/sample_data/clinvap/>\n",
      "\tResult Path: schema:license\n",
      "\n",
      "Constraint Violation in MinCountConstraintComponent (http://www.w3.org/ns/shacl#MinCountConstraintComponent):\n",
      "\tSeverity: sh:Violation\n",
      "\tSource Shape: [ sh:minCount Literal(\"1\", datatype=xsd:integer) ; sh:path schema:license ]\n",
      "\tFocus Node: <file:///Users/gaignard-a/Documents/Dev/ro-crate-py/notebooks/sample_data/clinvap/docs/>\n",
      "\tResult Path: schema:license\n",
      "\n"
     ]
    }
   ],
   "source": [
    "ro_path = 'sample_data/clinvap/ro-crate-metadata.jsonld'\n",
    "#ro = ConjunctiveGraph()\n",
    "#ro.parse('sample_data/clinvap/ro-crate-metadata.jsonld', format=\"json-ld\")\n",
    "#print(ro.serialize(format=\"turtle\").decode())\n",
    "\n",
    "r = validate(data_graph = ro_path, \n",
    "             data_graph_format='json-ld', \n",
    "             shacl_graph = shape, \n",
    "             shacl_graph_format = 'turtle', \n",
    "             ont_graph = None, \n",
    "             inference = 'rdfs', \n",
    "             abort_on_error = False, \n",
    "             meta_shacl = False, \n",
    "             debug = True)\n",
    "\n",
    "conforms, results_graph, results_text = r\n",
    "\n",
    "#print(results_text)"
   ]
  },
  {
   "cell_type": "markdown",
   "metadata": {},
   "source": [
    "# 4. Producing an explaination for the validation graph"
   ]
  },
  {
   "cell_type": "code",
   "execution_count": 37,
   "metadata": {},
   "outputs": [
    {
     "name": "stdout",
     "output_type": "stream",
     "text": [
      "18 actions needed to fix RO-crate mandatory fields\n"
     ]
    },
    {
     "data": {
      "text/markdown": [
       "The RO-crate `file:///Users/gaignard-a/Documents/Dev/ro-crate-py/notebooks/sample_data/clinvap/docs/` should be fixed, it is missing information for field http://schema.org/name"
      ],
      "text/plain": [
       "<IPython.core.display.Markdown object>"
      ]
     },
     "metadata": {},
     "output_type": "display_data"
    },
    {
     "data": {
      "text/markdown": [
       "The RO-crate `file:///Users/gaignard-a/Documents/Dev/ro-crate-py/notebooks/sample_data/clinvap/bin/` should be fixed, it is missing information for field http://schema.org/license"
      ],
      "text/plain": [
       "<IPython.core.display.Markdown object>"
      ]
     },
     "metadata": {},
     "output_type": "display_data"
    },
    {
     "data": {
      "text/markdown": [
       "The RO-crate `file:///Users/gaignard-a/Documents/Dev/ro-crate-py/notebooks/sample_data/clinvap/` should be fixed, it is missing information for field http://schema.org/datePublished"
      ],
      "text/plain": [
       "<IPython.core.display.Markdown object>"
      ]
     },
     "metadata": {},
     "output_type": "display_data"
    },
    {
     "data": {
      "text/markdown": [
       "The RO-crate `file:///Users/gaignard-a/Documents/Dev/ro-crate-py/notebooks/sample_data/clinvap/` should be fixed, it is missing information for field http://schema.org/license"
      ],
      "text/plain": [
       "<IPython.core.display.Markdown object>"
      ]
     },
     "metadata": {},
     "output_type": "display_data"
    },
    {
     "data": {
      "text/markdown": [
       "The RO-crate `file:///Users/gaignard-a/Documents/Dev/ro-crate-py/notebooks/sample_data/clinvap/bin/` should be fixed, it is missing information for field http://schema.org/name"
      ],
      "text/plain": [
       "<IPython.core.display.Markdown object>"
      ]
     },
     "metadata": {},
     "output_type": "display_data"
    },
    {
     "data": {
      "text/markdown": [
       "The RO-crate `file:///Users/gaignard-a/Documents/Dev/ro-crate-py/notebooks/sample_data/clinvap/assets/` should be fixed, it is missing information for field http://schema.org/name"
      ],
      "text/plain": [
       "<IPython.core.display.Markdown object>"
      ]
     },
     "metadata": {},
     "output_type": "display_data"
    },
    {
     "data": {
      "text/markdown": [
       "The RO-crate `file:///Users/gaignard-a/Documents/Dev/ro-crate-py/notebooks/sample_data/clinvap/conf/` should be fixed, it is missing information for field http://schema.org/name"
      ],
      "text/plain": [
       "<IPython.core.display.Markdown object>"
      ]
     },
     "metadata": {},
     "output_type": "display_data"
    },
    {
     "data": {
      "text/markdown": [
       "The RO-crate `file:///Users/gaignard-a/Documents/Dev/ro-crate-py/notebooks/sample_data/clinvap/bin/` should be fixed, it is missing information for field http://schema.org/description"
      ],
      "text/plain": [
       "<IPython.core.display.Markdown object>"
      ]
     },
     "metadata": {},
     "output_type": "display_data"
    },
    {
     "data": {
      "text/markdown": [
       "The RO-crate `file:///Users/gaignard-a/Documents/Dev/ro-crate-py/notebooks/sample_data/clinvap/docs/` should be fixed, it is missing information for field http://schema.org/description"
      ],
      "text/plain": [
       "<IPython.core.display.Markdown object>"
      ]
     },
     "metadata": {},
     "output_type": "display_data"
    },
    {
     "data": {
      "text/markdown": [
       "The RO-crate `file:///Users/gaignard-a/Documents/Dev/ro-crate-py/notebooks/sample_data/clinvap/conf/` should be fixed, it is missing information for field http://schema.org/datePublished"
      ],
      "text/plain": [
       "<IPython.core.display.Markdown object>"
      ]
     },
     "metadata": {},
     "output_type": "display_data"
    },
    {
     "data": {
      "text/markdown": [
       "The RO-crate `file:///Users/gaignard-a/Documents/Dev/ro-crate-py/notebooks/sample_data/clinvap/assets/` should be fixed, it is missing information for field http://schema.org/license"
      ],
      "text/plain": [
       "<IPython.core.display.Markdown object>"
      ]
     },
     "metadata": {},
     "output_type": "display_data"
    },
    {
     "data": {
      "text/markdown": [
       "The RO-crate `file:///Users/gaignard-a/Documents/Dev/ro-crate-py/notebooks/sample_data/clinvap/docs/` should be fixed, it is missing information for field http://schema.org/license"
      ],
      "text/plain": [
       "<IPython.core.display.Markdown object>"
      ]
     },
     "metadata": {},
     "output_type": "display_data"
    },
    {
     "data": {
      "text/markdown": [
       "The RO-crate `file:///Users/gaignard-a/Documents/Dev/ro-crate-py/notebooks/sample_data/clinvap/assets/` should be fixed, it is missing information for field http://schema.org/description"
      ],
      "text/plain": [
       "<IPython.core.display.Markdown object>"
      ]
     },
     "metadata": {},
     "output_type": "display_data"
    },
    {
     "data": {
      "text/markdown": [
       "The RO-crate `file:///Users/gaignard-a/Documents/Dev/ro-crate-py/notebooks/sample_data/clinvap/bin/` should be fixed, it is missing information for field http://schema.org/datePublished"
      ],
      "text/plain": [
       "<IPython.core.display.Markdown object>"
      ]
     },
     "metadata": {},
     "output_type": "display_data"
    },
    {
     "data": {
      "text/markdown": [
       "The RO-crate `file:///Users/gaignard-a/Documents/Dev/ro-crate-py/notebooks/sample_data/clinvap/assets/` should be fixed, it is missing information for field http://schema.org/datePublished"
      ],
      "text/plain": [
       "<IPython.core.display.Markdown object>"
      ]
     },
     "metadata": {},
     "output_type": "display_data"
    },
    {
     "data": {
      "text/markdown": [
       "The RO-crate `file:///Users/gaignard-a/Documents/Dev/ro-crate-py/notebooks/sample_data/clinvap/conf/` should be fixed, it is missing information for field http://schema.org/description"
      ],
      "text/plain": [
       "<IPython.core.display.Markdown object>"
      ]
     },
     "metadata": {},
     "output_type": "display_data"
    },
    {
     "data": {
      "text/markdown": [
       "The RO-crate `file:///Users/gaignard-a/Documents/Dev/ro-crate-py/notebooks/sample_data/clinvap/docs/` should be fixed, it is missing information for field http://schema.org/datePublished"
      ],
      "text/plain": [
       "<IPython.core.display.Markdown object>"
      ]
     },
     "metadata": {},
     "output_type": "display_data"
    },
    {
     "data": {
      "text/markdown": [
       "The RO-crate `file:///Users/gaignard-a/Documents/Dev/ro-crate-py/notebooks/sample_data/clinvap/conf/` should be fixed, it is missing information for field http://schema.org/license"
      ],
      "text/plain": [
       "<IPython.core.display.Markdown object>"
      ]
     },
     "metadata": {},
     "output_type": "display_data"
    }
   ],
   "source": [
    "report_query = \"\"\"\n",
    "    SELECT ?node ?path WHERE {\n",
    "        ?v rdf:type sh:ValidationReport ;\n",
    "           sh:result ?r .\n",
    "        ?r sh:focusNode ?node ;\n",
    "           sh:sourceShape ?s . \n",
    "        ?s sh:path ?path . \n",
    "    }\n",
    "\"\"\"\n",
    "\n",
    "results = results_graph.query(report_query)\n",
    "\n",
    "print(str(len(results))+ ' actions needed to fix RO-crate mandatory fields')\n",
    "\n",
    "for r in results :\n",
    "    display(Markdown('The RO-crate `{}` should be fixed, it is missing information for field {}'.format(str(r['node']), str(r['path']))))\n",
    "    \n"
   ]
  },
  {
   "cell_type": "code",
   "execution_count": null,
   "metadata": {},
   "outputs": [],
   "source": []
  }
 ],
 "metadata": {
  "kernelspec": {
   "display_name": "Python 3",
   "language": "python",
   "name": "python3"
  },
  "language_info": {
   "codemirror_mode": {
    "name": "ipython",
    "version": 3
   },
   "file_extension": ".py",
   "mimetype": "text/x-python",
   "name": "python",
   "nbconvert_exporter": "python",
   "pygments_lexer": "ipython3",
   "version": "3.8.2"
  }
 },
 "nbformat": 4,
 "nbformat_minor": 2
}
